{
  "nbformat": 4,
  "nbformat_minor": 0,
  "metadata": {
    "colab": {
      "provenance": []
    },
    "kernelspec": {
      "name": "python3",
      "display_name": "Python 3"
    },
    "language_info": {
      "name": "python"
    }
  },
  "cells": [
    {
      "cell_type": "markdown",
      "source": [
        "#Задача №2 - решение задачи регрессии с помощью классической модели регрессии из библиотеки sklearn"
      ],
      "metadata": {
        "id": "FwfIM3r-RJP_"
      }
    },
    {
      "cell_type": "markdown",
      "source": [
        "Загрузим файл с данными с гугл диска"
      ],
      "metadata": {
        "id": "UhTpgm5xRbxz"
      }
    },
    {
      "cell_type": "code",
      "execution_count": null,
      "metadata": {
        "colab": {
          "base_uri": "https://localhost:8080/"
        },
        "id": "8xl6mOhVd7uw",
        "outputId": "dff63411-657d-42fd-bf40-14a98d25a4d2"
      },
      "outputs": [
        {
          "output_type": "stream",
          "name": "stdout",
          "text": [
            "/usr/local/lib/python3.10/dist-packages/gdown/cli.py:121: FutureWarning: Option `--id` was deprecated in version 4.3.1 and will be removed in 5.0. You don't need to pass it anymore to use a file ID.\n",
            "  warnings.warn(\n",
            "Downloading...\n",
            "From: https://drive.google.com/uc?id=1kD8_4C7Pwe_VUj8zNmUFmKeWGClussAr\n",
            "To: /content/train_sibur_2task.parquet\n",
            "100% 33.9M/33.9M [00:00<00:00, 55.7MB/s]\n"
          ]
        }
      ],
      "source": [
        "! gdown --id 1kD8_4C7Pwe_VUj8zNmUFmKeWGClussAr"
      ]
    },
    {
      "cell_type": "markdown",
      "source": [
        "Импортируем необходимые библиотеки:"
      ],
      "metadata": {
        "id": "kJkIxFZtRiFk"
      }
    },
    {
      "cell_type": "code",
      "source": [
        "import pandas as pd\n",
        "from sklearn import preprocessing\n",
        "from sklearn.model_selection import train_test_split\n",
        "from sklearn.linear_model import LinearRegression\n",
        "from sklearn.metrics import mean_absolute_percentage_error, r2_score\n",
        "import pickle\n",
        "import numpy as np"
      ],
      "metadata": {
        "id": "M5QrTy-VeNi9"
      },
      "execution_count": null,
      "outputs": []
    },
    {
      "cell_type": "markdown",
      "source": [
        "Откроем файл с данными и посмотрим в каком виде хранятся данные"
      ],
      "metadata": {
        "id": "FI0OXJ8vR90q"
      }
    },
    {
      "cell_type": "code",
      "source": [
        "data_train = pd.read_parquet(\"/content/train_sibur_2task.parquet\", engine='pyarrow')\n",
        "data_train.head()"
      ],
      "metadata": {
        "colab": {
          "base_uri": "https://localhost:8080/",
          "height": 299
        },
        "id": "ewGHoY02eIBK",
        "outputId": "4e94ad4d-5397-4d87-b064-ff70faded1bc"
      },
      "execution_count": null,
      "outputs": [
        {
          "output_type": "execute_result",
          "data": {
            "text/plain": [
              "    feature0   feature1   feature2   feature3 feature4   feature5   feature6  \\\n",
              "0  32.910908  17.376350  77.557840   2.929855     gas1  20.487150  57.633085   \n",
              "1  41.263782  22.419445  47.945514 -25.847472     gas2  21.461239   3.474080   \n",
              "2  25.580283  17.376350  77.654180   2.799411     gas1  20.487150  28.938295   \n",
              "3  33.756900  17.376350  73.049625   2.953982     gas1  20.487150  28.932311   \n",
              "4   4.223732  38.772534  48.015553 -25.843943     gas2  24.635721  12.011581   \n",
              "\n",
              "    feature7   feature8   feature9  ...  feature17  feature18   feature19  \\\n",
              "0  49.245392 -44.124381  23.400064  ...  14.203652   9.689942   17.951627   \n",
              "1  49.659980 -13.553188 -13.047593  ... -14.451904  -0.906120  105.724742   \n",
              "2  49.245392 -44.124381  20.610679  ...  14.395054   9.779019   17.951638   \n",
              "3  49.245392 -44.124381  18.107963  ...  14.184314   9.798969   17.951675   \n",
              "4  51.030938  84.244199 -17.735680  ... -14.439953   8.262354   90.187207   \n",
              "\n",
              "   feature20   feature21   feature22  feature23   feature24    target0  \\\n",
              "0  24.198589  102.448710  110.529868  56.817260   12.887802  27.050891   \n",
              "1  -9.435222  -16.060150   37.286110  61.224272   39.822424  84.127890   \n",
              "2  24.999453  101.728213  111.471534  52.664304   12.887802  22.080133   \n",
              "3  23.990300  101.312113  115.589451  56.840719   12.887802  30.234082   \n",
              "4  -2.901661  -16.060150   37.398779  40.488468  128.295838  71.128092   \n",
              "\n",
              "     target1  \n",
              "0   6.502743  \n",
              "1  76.578716  \n",
              "2   3.036043  \n",
              "3   8.910795  \n",
              "4  50.475082  \n",
              "\n",
              "[5 rows x 27 columns]"
            ],
            "text/html": [
              "\n",
              "  <div id=\"df-131eeabb-fd4a-48dd-ad1e-9a8188fe2cfb\">\n",
              "    <div class=\"colab-df-container\">\n",
              "      <div>\n",
              "<style scoped>\n",
              "    .dataframe tbody tr th:only-of-type {\n",
              "        vertical-align: middle;\n",
              "    }\n",
              "\n",
              "    .dataframe tbody tr th {\n",
              "        vertical-align: top;\n",
              "    }\n",
              "\n",
              "    .dataframe thead th {\n",
              "        text-align: right;\n",
              "    }\n",
              "</style>\n",
              "<table border=\"1\" class=\"dataframe\">\n",
              "  <thead>\n",
              "    <tr style=\"text-align: right;\">\n",
              "      <th></th>\n",
              "      <th>feature0</th>\n",
              "      <th>feature1</th>\n",
              "      <th>feature2</th>\n",
              "      <th>feature3</th>\n",
              "      <th>feature4</th>\n",
              "      <th>feature5</th>\n",
              "      <th>feature6</th>\n",
              "      <th>feature7</th>\n",
              "      <th>feature8</th>\n",
              "      <th>feature9</th>\n",
              "      <th>...</th>\n",
              "      <th>feature17</th>\n",
              "      <th>feature18</th>\n",
              "      <th>feature19</th>\n",
              "      <th>feature20</th>\n",
              "      <th>feature21</th>\n",
              "      <th>feature22</th>\n",
              "      <th>feature23</th>\n",
              "      <th>feature24</th>\n",
              "      <th>target0</th>\n",
              "      <th>target1</th>\n",
              "    </tr>\n",
              "  </thead>\n",
              "  <tbody>\n",
              "    <tr>\n",
              "      <th>0</th>\n",
              "      <td>32.910908</td>\n",
              "      <td>17.376350</td>\n",
              "      <td>77.557840</td>\n",
              "      <td>2.929855</td>\n",
              "      <td>gas1</td>\n",
              "      <td>20.487150</td>\n",
              "      <td>57.633085</td>\n",
              "      <td>49.245392</td>\n",
              "      <td>-44.124381</td>\n",
              "      <td>23.400064</td>\n",
              "      <td>...</td>\n",
              "      <td>14.203652</td>\n",
              "      <td>9.689942</td>\n",
              "      <td>17.951627</td>\n",
              "      <td>24.198589</td>\n",
              "      <td>102.448710</td>\n",
              "      <td>110.529868</td>\n",
              "      <td>56.817260</td>\n",
              "      <td>12.887802</td>\n",
              "      <td>27.050891</td>\n",
              "      <td>6.502743</td>\n",
              "    </tr>\n",
              "    <tr>\n",
              "      <th>1</th>\n",
              "      <td>41.263782</td>\n",
              "      <td>22.419445</td>\n",
              "      <td>47.945514</td>\n",
              "      <td>-25.847472</td>\n",
              "      <td>gas2</td>\n",
              "      <td>21.461239</td>\n",
              "      <td>3.474080</td>\n",
              "      <td>49.659980</td>\n",
              "      <td>-13.553188</td>\n",
              "      <td>-13.047593</td>\n",
              "      <td>...</td>\n",
              "      <td>-14.451904</td>\n",
              "      <td>-0.906120</td>\n",
              "      <td>105.724742</td>\n",
              "      <td>-9.435222</td>\n",
              "      <td>-16.060150</td>\n",
              "      <td>37.286110</td>\n",
              "      <td>61.224272</td>\n",
              "      <td>39.822424</td>\n",
              "      <td>84.127890</td>\n",
              "      <td>76.578716</td>\n",
              "    </tr>\n",
              "    <tr>\n",
              "      <th>2</th>\n",
              "      <td>25.580283</td>\n",
              "      <td>17.376350</td>\n",
              "      <td>77.654180</td>\n",
              "      <td>2.799411</td>\n",
              "      <td>gas1</td>\n",
              "      <td>20.487150</td>\n",
              "      <td>28.938295</td>\n",
              "      <td>49.245392</td>\n",
              "      <td>-44.124381</td>\n",
              "      <td>20.610679</td>\n",
              "      <td>...</td>\n",
              "      <td>14.395054</td>\n",
              "      <td>9.779019</td>\n",
              "      <td>17.951638</td>\n",
              "      <td>24.999453</td>\n",
              "      <td>101.728213</td>\n",
              "      <td>111.471534</td>\n",
              "      <td>52.664304</td>\n",
              "      <td>12.887802</td>\n",
              "      <td>22.080133</td>\n",
              "      <td>3.036043</td>\n",
              "    </tr>\n",
              "    <tr>\n",
              "      <th>3</th>\n",
              "      <td>33.756900</td>\n",
              "      <td>17.376350</td>\n",
              "      <td>73.049625</td>\n",
              "      <td>2.953982</td>\n",
              "      <td>gas1</td>\n",
              "      <td>20.487150</td>\n",
              "      <td>28.932311</td>\n",
              "      <td>49.245392</td>\n",
              "      <td>-44.124381</td>\n",
              "      <td>18.107963</td>\n",
              "      <td>...</td>\n",
              "      <td>14.184314</td>\n",
              "      <td>9.798969</td>\n",
              "      <td>17.951675</td>\n",
              "      <td>23.990300</td>\n",
              "      <td>101.312113</td>\n",
              "      <td>115.589451</td>\n",
              "      <td>56.840719</td>\n",
              "      <td>12.887802</td>\n",
              "      <td>30.234082</td>\n",
              "      <td>8.910795</td>\n",
              "    </tr>\n",
              "    <tr>\n",
              "      <th>4</th>\n",
              "      <td>4.223732</td>\n",
              "      <td>38.772534</td>\n",
              "      <td>48.015553</td>\n",
              "      <td>-25.843943</td>\n",
              "      <td>gas2</td>\n",
              "      <td>24.635721</td>\n",
              "      <td>12.011581</td>\n",
              "      <td>51.030938</td>\n",
              "      <td>84.244199</td>\n",
              "      <td>-17.735680</td>\n",
              "      <td>...</td>\n",
              "      <td>-14.439953</td>\n",
              "      <td>8.262354</td>\n",
              "      <td>90.187207</td>\n",
              "      <td>-2.901661</td>\n",
              "      <td>-16.060150</td>\n",
              "      <td>37.398779</td>\n",
              "      <td>40.488468</td>\n",
              "      <td>128.295838</td>\n",
              "      <td>71.128092</td>\n",
              "      <td>50.475082</td>\n",
              "    </tr>\n",
              "  </tbody>\n",
              "</table>\n",
              "<p>5 rows × 27 columns</p>\n",
              "</div>\n",
              "      <button class=\"colab-df-convert\" onclick=\"convertToInteractive('df-131eeabb-fd4a-48dd-ad1e-9a8188fe2cfb')\"\n",
              "              title=\"Convert this dataframe to an interactive table.\"\n",
              "              style=\"display:none;\">\n",
              "        \n",
              "  <svg xmlns=\"http://www.w3.org/2000/svg\" height=\"24px\"viewBox=\"0 0 24 24\"\n",
              "       width=\"24px\">\n",
              "    <path d=\"M0 0h24v24H0V0z\" fill=\"none\"/>\n",
              "    <path d=\"M18.56 5.44l.94 2.06.94-2.06 2.06-.94-2.06-.94-.94-2.06-.94 2.06-2.06.94zm-11 1L8.5 8.5l.94-2.06 2.06-.94-2.06-.94L8.5 2.5l-.94 2.06-2.06.94zm10 10l.94 2.06.94-2.06 2.06-.94-2.06-.94-.94-2.06-.94 2.06-2.06.94z\"/><path d=\"M17.41 7.96l-1.37-1.37c-.4-.4-.92-.59-1.43-.59-.52 0-1.04.2-1.43.59L10.3 9.45l-7.72 7.72c-.78.78-.78 2.05 0 2.83L4 21.41c.39.39.9.59 1.41.59.51 0 1.02-.2 1.41-.59l7.78-7.78 2.81-2.81c.8-.78.8-2.07 0-2.86zM5.41 20L4 18.59l7.72-7.72 1.47 1.35L5.41 20z\"/>\n",
              "  </svg>\n",
              "      </button>\n",
              "      \n",
              "  <style>\n",
              "    .colab-df-container {\n",
              "      display:flex;\n",
              "      flex-wrap:wrap;\n",
              "      gap: 12px;\n",
              "    }\n",
              "\n",
              "    .colab-df-convert {\n",
              "      background-color: #E8F0FE;\n",
              "      border: none;\n",
              "      border-radius: 50%;\n",
              "      cursor: pointer;\n",
              "      display: none;\n",
              "      fill: #1967D2;\n",
              "      height: 32px;\n",
              "      padding: 0 0 0 0;\n",
              "      width: 32px;\n",
              "    }\n",
              "\n",
              "    .colab-df-convert:hover {\n",
              "      background-color: #E2EBFA;\n",
              "      box-shadow: 0px 1px 2px rgba(60, 64, 67, 0.3), 0px 1px 3px 1px rgba(60, 64, 67, 0.15);\n",
              "      fill: #174EA6;\n",
              "    }\n",
              "\n",
              "    [theme=dark] .colab-df-convert {\n",
              "      background-color: #3B4455;\n",
              "      fill: #D2E3FC;\n",
              "    }\n",
              "\n",
              "    [theme=dark] .colab-df-convert:hover {\n",
              "      background-color: #434B5C;\n",
              "      box-shadow: 0px 1px 3px 1px rgba(0, 0, 0, 0.15);\n",
              "      filter: drop-shadow(0px 1px 2px rgba(0, 0, 0, 0.3));\n",
              "      fill: #FFFFFF;\n",
              "    }\n",
              "  </style>\n",
              "\n",
              "      <script>\n",
              "        const buttonEl =\n",
              "          document.querySelector('#df-131eeabb-fd4a-48dd-ad1e-9a8188fe2cfb button.colab-df-convert');\n",
              "        buttonEl.style.display =\n",
              "          google.colab.kernel.accessAllowed ? 'block' : 'none';\n",
              "\n",
              "        async function convertToInteractive(key) {\n",
              "          const element = document.querySelector('#df-131eeabb-fd4a-48dd-ad1e-9a8188fe2cfb');\n",
              "          const dataTable =\n",
              "            await google.colab.kernel.invokeFunction('convertToInteractive',\n",
              "                                                     [key], {});\n",
              "          if (!dataTable) return;\n",
              "\n",
              "          const docLinkHtml = 'Like what you see? Visit the ' +\n",
              "            '<a target=\"_blank\" href=https://colab.research.google.com/notebooks/data_table.ipynb>data table notebook</a>'\n",
              "            + ' to learn more about interactive tables.';\n",
              "          element.innerHTML = '';\n",
              "          dataTable['output_type'] = 'display_data';\n",
              "          await google.colab.output.renderOutput(dataTable, element);\n",
              "          const docLink = document.createElement('div');\n",
              "          docLink.innerHTML = docLinkHtml;\n",
              "          element.appendChild(docLink);\n",
              "        }\n",
              "      </script>\n",
              "    </div>\n",
              "  </div>\n",
              "  "
            ]
          },
          "metadata": {},
          "execution_count": 4
        }
      ]
    },
    {
      "cell_type": "markdown",
      "source": [
        "Признак feature4 - это категориальная переменная, которая принимает 2 значения: \"gas1\" и \"gas2\". Заменим значения на числовые (0, 1) с помощью LabelEncoder() из библиотеки sklearn"
      ],
      "metadata": {
        "id": "lWVMi-OLSIE3"
      }
    },
    {
      "cell_type": "code",
      "source": [
        "le = preprocessing.LabelEncoder()\n",
        "data_train['feature4'] = le.fit_transform(data_train['feature4'])\n",
        "data_train.head()"
      ],
      "metadata": {
        "colab": {
          "base_uri": "https://localhost:8080/",
          "height": 299
        },
        "id": "nSp6sZr8egeQ",
        "outputId": "e9eb3cb8-7238-4b52-b00b-a6ee3fd0694a"
      },
      "execution_count": null,
      "outputs": [
        {
          "output_type": "execute_result",
          "data": {
            "text/plain": [
              "    feature0   feature1   feature2   feature3  feature4   feature5   feature6  \\\n",
              "0  32.910908  17.376350  77.557840   2.929855         0  20.487150  57.633085   \n",
              "1  41.263782  22.419445  47.945514 -25.847472         1  21.461239   3.474080   \n",
              "2  25.580283  17.376350  77.654180   2.799411         0  20.487150  28.938295   \n",
              "3  33.756900  17.376350  73.049625   2.953982         0  20.487150  28.932311   \n",
              "4   4.223732  38.772534  48.015553 -25.843943         1  24.635721  12.011581   \n",
              "\n",
              "    feature7   feature8   feature9  ...  feature17  feature18   feature19  \\\n",
              "0  49.245392 -44.124381  23.400064  ...  14.203652   9.689942   17.951627   \n",
              "1  49.659980 -13.553188 -13.047593  ... -14.451904  -0.906120  105.724742   \n",
              "2  49.245392 -44.124381  20.610679  ...  14.395054   9.779019   17.951638   \n",
              "3  49.245392 -44.124381  18.107963  ...  14.184314   9.798969   17.951675   \n",
              "4  51.030938  84.244199 -17.735680  ... -14.439953   8.262354   90.187207   \n",
              "\n",
              "   feature20   feature21   feature22  feature23   feature24    target0  \\\n",
              "0  24.198589  102.448710  110.529868  56.817260   12.887802  27.050891   \n",
              "1  -9.435222  -16.060150   37.286110  61.224272   39.822424  84.127890   \n",
              "2  24.999453  101.728213  111.471534  52.664304   12.887802  22.080133   \n",
              "3  23.990300  101.312113  115.589451  56.840719   12.887802  30.234082   \n",
              "4  -2.901661  -16.060150   37.398779  40.488468  128.295838  71.128092   \n",
              "\n",
              "     target1  \n",
              "0   6.502743  \n",
              "1  76.578716  \n",
              "2   3.036043  \n",
              "3   8.910795  \n",
              "4  50.475082  \n",
              "\n",
              "[5 rows x 27 columns]"
            ],
            "text/html": [
              "\n",
              "  <div id=\"df-0c9fe67a-0a13-4353-a842-3a395bf5ee24\">\n",
              "    <div class=\"colab-df-container\">\n",
              "      <div>\n",
              "<style scoped>\n",
              "    .dataframe tbody tr th:only-of-type {\n",
              "        vertical-align: middle;\n",
              "    }\n",
              "\n",
              "    .dataframe tbody tr th {\n",
              "        vertical-align: top;\n",
              "    }\n",
              "\n",
              "    .dataframe thead th {\n",
              "        text-align: right;\n",
              "    }\n",
              "</style>\n",
              "<table border=\"1\" class=\"dataframe\">\n",
              "  <thead>\n",
              "    <tr style=\"text-align: right;\">\n",
              "      <th></th>\n",
              "      <th>feature0</th>\n",
              "      <th>feature1</th>\n",
              "      <th>feature2</th>\n",
              "      <th>feature3</th>\n",
              "      <th>feature4</th>\n",
              "      <th>feature5</th>\n",
              "      <th>feature6</th>\n",
              "      <th>feature7</th>\n",
              "      <th>feature8</th>\n",
              "      <th>feature9</th>\n",
              "      <th>...</th>\n",
              "      <th>feature17</th>\n",
              "      <th>feature18</th>\n",
              "      <th>feature19</th>\n",
              "      <th>feature20</th>\n",
              "      <th>feature21</th>\n",
              "      <th>feature22</th>\n",
              "      <th>feature23</th>\n",
              "      <th>feature24</th>\n",
              "      <th>target0</th>\n",
              "      <th>target1</th>\n",
              "    </tr>\n",
              "  </thead>\n",
              "  <tbody>\n",
              "    <tr>\n",
              "      <th>0</th>\n",
              "      <td>32.910908</td>\n",
              "      <td>17.376350</td>\n",
              "      <td>77.557840</td>\n",
              "      <td>2.929855</td>\n",
              "      <td>0</td>\n",
              "      <td>20.487150</td>\n",
              "      <td>57.633085</td>\n",
              "      <td>49.245392</td>\n",
              "      <td>-44.124381</td>\n",
              "      <td>23.400064</td>\n",
              "      <td>...</td>\n",
              "      <td>14.203652</td>\n",
              "      <td>9.689942</td>\n",
              "      <td>17.951627</td>\n",
              "      <td>24.198589</td>\n",
              "      <td>102.448710</td>\n",
              "      <td>110.529868</td>\n",
              "      <td>56.817260</td>\n",
              "      <td>12.887802</td>\n",
              "      <td>27.050891</td>\n",
              "      <td>6.502743</td>\n",
              "    </tr>\n",
              "    <tr>\n",
              "      <th>1</th>\n",
              "      <td>41.263782</td>\n",
              "      <td>22.419445</td>\n",
              "      <td>47.945514</td>\n",
              "      <td>-25.847472</td>\n",
              "      <td>1</td>\n",
              "      <td>21.461239</td>\n",
              "      <td>3.474080</td>\n",
              "      <td>49.659980</td>\n",
              "      <td>-13.553188</td>\n",
              "      <td>-13.047593</td>\n",
              "      <td>...</td>\n",
              "      <td>-14.451904</td>\n",
              "      <td>-0.906120</td>\n",
              "      <td>105.724742</td>\n",
              "      <td>-9.435222</td>\n",
              "      <td>-16.060150</td>\n",
              "      <td>37.286110</td>\n",
              "      <td>61.224272</td>\n",
              "      <td>39.822424</td>\n",
              "      <td>84.127890</td>\n",
              "      <td>76.578716</td>\n",
              "    </tr>\n",
              "    <tr>\n",
              "      <th>2</th>\n",
              "      <td>25.580283</td>\n",
              "      <td>17.376350</td>\n",
              "      <td>77.654180</td>\n",
              "      <td>2.799411</td>\n",
              "      <td>0</td>\n",
              "      <td>20.487150</td>\n",
              "      <td>28.938295</td>\n",
              "      <td>49.245392</td>\n",
              "      <td>-44.124381</td>\n",
              "      <td>20.610679</td>\n",
              "      <td>...</td>\n",
              "      <td>14.395054</td>\n",
              "      <td>9.779019</td>\n",
              "      <td>17.951638</td>\n",
              "      <td>24.999453</td>\n",
              "      <td>101.728213</td>\n",
              "      <td>111.471534</td>\n",
              "      <td>52.664304</td>\n",
              "      <td>12.887802</td>\n",
              "      <td>22.080133</td>\n",
              "      <td>3.036043</td>\n",
              "    </tr>\n",
              "    <tr>\n",
              "      <th>3</th>\n",
              "      <td>33.756900</td>\n",
              "      <td>17.376350</td>\n",
              "      <td>73.049625</td>\n",
              "      <td>2.953982</td>\n",
              "      <td>0</td>\n",
              "      <td>20.487150</td>\n",
              "      <td>28.932311</td>\n",
              "      <td>49.245392</td>\n",
              "      <td>-44.124381</td>\n",
              "      <td>18.107963</td>\n",
              "      <td>...</td>\n",
              "      <td>14.184314</td>\n",
              "      <td>9.798969</td>\n",
              "      <td>17.951675</td>\n",
              "      <td>23.990300</td>\n",
              "      <td>101.312113</td>\n",
              "      <td>115.589451</td>\n",
              "      <td>56.840719</td>\n",
              "      <td>12.887802</td>\n",
              "      <td>30.234082</td>\n",
              "      <td>8.910795</td>\n",
              "    </tr>\n",
              "    <tr>\n",
              "      <th>4</th>\n",
              "      <td>4.223732</td>\n",
              "      <td>38.772534</td>\n",
              "      <td>48.015553</td>\n",
              "      <td>-25.843943</td>\n",
              "      <td>1</td>\n",
              "      <td>24.635721</td>\n",
              "      <td>12.011581</td>\n",
              "      <td>51.030938</td>\n",
              "      <td>84.244199</td>\n",
              "      <td>-17.735680</td>\n",
              "      <td>...</td>\n",
              "      <td>-14.439953</td>\n",
              "      <td>8.262354</td>\n",
              "      <td>90.187207</td>\n",
              "      <td>-2.901661</td>\n",
              "      <td>-16.060150</td>\n",
              "      <td>37.398779</td>\n",
              "      <td>40.488468</td>\n",
              "      <td>128.295838</td>\n",
              "      <td>71.128092</td>\n",
              "      <td>50.475082</td>\n",
              "    </tr>\n",
              "  </tbody>\n",
              "</table>\n",
              "<p>5 rows × 27 columns</p>\n",
              "</div>\n",
              "      <button class=\"colab-df-convert\" onclick=\"convertToInteractive('df-0c9fe67a-0a13-4353-a842-3a395bf5ee24')\"\n",
              "              title=\"Convert this dataframe to an interactive table.\"\n",
              "              style=\"display:none;\">\n",
              "        \n",
              "  <svg xmlns=\"http://www.w3.org/2000/svg\" height=\"24px\"viewBox=\"0 0 24 24\"\n",
              "       width=\"24px\">\n",
              "    <path d=\"M0 0h24v24H0V0z\" fill=\"none\"/>\n",
              "    <path d=\"M18.56 5.44l.94 2.06.94-2.06 2.06-.94-2.06-.94-.94-2.06-.94 2.06-2.06.94zm-11 1L8.5 8.5l.94-2.06 2.06-.94-2.06-.94L8.5 2.5l-.94 2.06-2.06.94zm10 10l.94 2.06.94-2.06 2.06-.94-2.06-.94-.94-2.06-.94 2.06-2.06.94z\"/><path d=\"M17.41 7.96l-1.37-1.37c-.4-.4-.92-.59-1.43-.59-.52 0-1.04.2-1.43.59L10.3 9.45l-7.72 7.72c-.78.78-.78 2.05 0 2.83L4 21.41c.39.39.9.59 1.41.59.51 0 1.02-.2 1.41-.59l7.78-7.78 2.81-2.81c.8-.78.8-2.07 0-2.86zM5.41 20L4 18.59l7.72-7.72 1.47 1.35L5.41 20z\"/>\n",
              "  </svg>\n",
              "      </button>\n",
              "      \n",
              "  <style>\n",
              "    .colab-df-container {\n",
              "      display:flex;\n",
              "      flex-wrap:wrap;\n",
              "      gap: 12px;\n",
              "    }\n",
              "\n",
              "    .colab-df-convert {\n",
              "      background-color: #E8F0FE;\n",
              "      border: none;\n",
              "      border-radius: 50%;\n",
              "      cursor: pointer;\n",
              "      display: none;\n",
              "      fill: #1967D2;\n",
              "      height: 32px;\n",
              "      padding: 0 0 0 0;\n",
              "      width: 32px;\n",
              "    }\n",
              "\n",
              "    .colab-df-convert:hover {\n",
              "      background-color: #E2EBFA;\n",
              "      box-shadow: 0px 1px 2px rgba(60, 64, 67, 0.3), 0px 1px 3px 1px rgba(60, 64, 67, 0.15);\n",
              "      fill: #174EA6;\n",
              "    }\n",
              "\n",
              "    [theme=dark] .colab-df-convert {\n",
              "      background-color: #3B4455;\n",
              "      fill: #D2E3FC;\n",
              "    }\n",
              "\n",
              "    [theme=dark] .colab-df-convert:hover {\n",
              "      background-color: #434B5C;\n",
              "      box-shadow: 0px 1px 3px 1px rgba(0, 0, 0, 0.15);\n",
              "      filter: drop-shadow(0px 1px 2px rgba(0, 0, 0, 0.3));\n",
              "      fill: #FFFFFF;\n",
              "    }\n",
              "  </style>\n",
              "\n",
              "      <script>\n",
              "        const buttonEl =\n",
              "          document.querySelector('#df-0c9fe67a-0a13-4353-a842-3a395bf5ee24 button.colab-df-convert');\n",
              "        buttonEl.style.display =\n",
              "          google.colab.kernel.accessAllowed ? 'block' : 'none';\n",
              "\n",
              "        async function convertToInteractive(key) {\n",
              "          const element = document.querySelector('#df-0c9fe67a-0a13-4353-a842-3a395bf5ee24');\n",
              "          const dataTable =\n",
              "            await google.colab.kernel.invokeFunction('convertToInteractive',\n",
              "                                                     [key], {});\n",
              "          if (!dataTable) return;\n",
              "\n",
              "          const docLinkHtml = 'Like what you see? Visit the ' +\n",
              "            '<a target=\"_blank\" href=https://colab.research.google.com/notebooks/data_table.ipynb>data table notebook</a>'\n",
              "            + ' to learn more about interactive tables.';\n",
              "          element.innerHTML = '';\n",
              "          dataTable['output_type'] = 'display_data';\n",
              "          await google.colab.output.renderOutput(dataTable, element);\n",
              "          const docLink = document.createElement('div');\n",
              "          docLink.innerHTML = docLinkHtml;\n",
              "          element.appendChild(docLink);\n",
              "        }\n",
              "      </script>\n",
              "    </div>\n",
              "  </div>\n",
              "  "
            ]
          },
          "metadata": {},
          "execution_count": 5
        }
      ]
    },
    {
      "cell_type": "markdown",
      "source": [
        "Проверим есть ли в датасете пропущенные значения и дубликаты"
      ],
      "metadata": {
        "id": "Uncr73YITP--"
      }
    },
    {
      "cell_type": "code",
      "source": [
        "data_train.isna().sum()"
      ],
      "metadata": {
        "id": "ve-fX0KOJgcl",
        "colab": {
          "base_uri": "https://localhost:8080/"
        },
        "outputId": "09e0098a-d1a5-4a24-81cd-9c90605bee1c"
      },
      "execution_count": null,
      "outputs": [
        {
          "output_type": "execute_result",
          "data": {
            "text/plain": [
              "feature0     0\n",
              "feature1     0\n",
              "feature2     0\n",
              "feature3     0\n",
              "feature4     0\n",
              "feature5     0\n",
              "feature6     0\n",
              "feature7     0\n",
              "feature8     0\n",
              "feature9     0\n",
              "feature10    0\n",
              "feature11    0\n",
              "feature12    0\n",
              "feature13    0\n",
              "feature14    0\n",
              "feature15    0\n",
              "feature16    0\n",
              "feature17    0\n",
              "feature18    0\n",
              "feature19    0\n",
              "feature20    0\n",
              "feature21    0\n",
              "feature22    0\n",
              "feature23    0\n",
              "feature24    0\n",
              "target0      0\n",
              "target1      0\n",
              "dtype: int64"
            ]
          },
          "metadata": {},
          "execution_count": 6
        }
      ]
    },
    {
      "cell_type": "code",
      "source": [
        "data_train.duplicated().sum()"
      ],
      "metadata": {
        "colab": {
          "base_uri": "https://localhost:8080/"
        },
        "id": "uVN_RN4jTgCD",
        "outputId": "b7ea746b-3a3d-4510-cc84-0495188b7429"
      },
      "execution_count": null,
      "outputs": [
        {
          "output_type": "execute_result",
          "data": {
            "text/plain": [
              "0"
            ]
          },
          "metadata": {},
          "execution_count": 7
        }
      ]
    },
    {
      "cell_type": "markdown",
      "source": [
        "Пропусков и дубликатов нет. Приступим непосредственно к обучению. Нам необходимо предсказать параметры 'target0', 'target1'. Разделим данные на тренировочную и валидационную выборку"
      ],
      "metadata": {
        "id": "e05oCISOTp6O"
      }
    },
    {
      "cell_type": "code",
      "source": [
        "X = data_train.drop(['target0','target1'], axis=1)\n",
        "y0 = data_train['target0']\n",
        "y1 = data_train['target1']\n",
        "\n",
        "X_train, X_val, y0_train, y0_val = train_test_split(X, y0,\n",
        "                                                    test_size=0.25, random_state=42)\n",
        "X_train, X_val, y1_train, y1_val = train_test_split(X, y1,\n",
        "                                                    test_size=0.25, random_state=42)"
      ],
      "metadata": {
        "id": "RjUkzGJSetXE"
      },
      "execution_count": null,
      "outputs": []
    },
    {
      "cell_type": "markdown",
      "source": [
        "Построим регерессионные модели для 'target0' и 'target1'."
      ],
      "metadata": {
        "id": "hdsk3XqBVqE7"
      }
    },
    {
      "cell_type": "code",
      "source": [
        "model_0 = LinearRegression()\n",
        "model_0.fit(X_train, y0_train)\n",
        "y0_train_pred = model_0.predict(X_train)\n",
        "y0_val_pred = model_0.predict(X_val)\n",
        "\n",
        "model_1 = LinearRegression()\n",
        "model_1.fit(X_train, y1_train)\n",
        "y1_train_pred = model_1.predict(X_train)\n",
        "y1_val_pred = model_1.predict(X_val)"
      ],
      "metadata": {
        "id": "k8MLAEm7UFzA"
      },
      "execution_count": null,
      "outputs": []
    },
    {
      "cell_type": "markdown",
      "source": [
        "Посмотрим на метрики обученных моделей"
      ],
      "metadata": {
        "id": "2aLG3fWlWYgw"
      }
    },
    {
      "cell_type": "code",
      "source": [
        "print('MSE train: {:.3f}, test: {:.3f}'.format(\n",
        "        mean_absolute_percentage_error(y0_train, y0_train_pred),\n",
        "        mean_absolute_percentage_error(y0_val, y0_val_pred)))\n",
        "print('R^2 train: {:.3f}, test: {:.3f}'.format(\n",
        "        r2_score(y0_train, y0_train_pred),\n",
        "        r2_score(y0_val, y0_val_pred)))\n",
        "print('MSE train: {:.3f}, test: {:.3f}'.format(\n",
        "        mean_absolute_percentage_error(y1_train, y1_train_pred),\n",
        "        mean_absolute_percentage_error(y1_val, y1_val_pred)))\n",
        "print('R^2 train: {:.3f}, test: {:.3f}'.format(\n",
        "        r2_score(y1_train, y1_train_pred),\n",
        "        r2_score(y1_val, y1_val_pred)))"
      ],
      "metadata": {
        "colab": {
          "base_uri": "https://localhost:8080/"
        },
        "id": "v6eegRuoVLSv",
        "outputId": "e7f982b6-a1a8-445a-b7ef-61766d75043f"
      },
      "execution_count": null,
      "outputs": [
        {
          "output_type": "stream",
          "name": "stdout",
          "text": [
            "MSE train: 0.032, test: 0.032\n",
            "R^2 train: 0.997, test: 0.997\n",
            "MSE train: 0.402, test: 0.400\n",
            "R^2 train: 0.971, test: 0.971\n"
          ]
        }
      ]
    },
    {
      "cell_type": "markdown",
      "source": [
        "В обоих случаях, несмотря на высокий r2_score, средняя абсолютная процентная погрешность довольно высокая. Попробуем данные с фичами (X) предварительно нормализовать и посмотрим как изменяться метрики"
      ],
      "metadata": {
        "id": "Iq0ifZs0Wr8y"
      }
    },
    {
      "cell_type": "code",
      "source": [
        "X_normalized = (X - X.mean())/X.std()"
      ],
      "metadata": {
        "id": "K52gl4fMXfTv"
      },
      "execution_count": null,
      "outputs": []
    },
    {
      "cell_type": "code",
      "source": [
        "X_train_n, X_val_n, y0_train, y0_val = train_test_split(X_normalized, y0,\n",
        "                                                    test_size=0.25, random_state=42)\n",
        "X_train_n, X_val_n, y1_train, y1_val = train_test_split(X_normalized, y1,\n",
        "                                                    test_size=0.25, random_state=42)"
      ],
      "metadata": {
        "id": "hVknLkA8X8qE"
      },
      "execution_count": null,
      "outputs": []
    },
    {
      "cell_type": "code",
      "source": [
        "model_0 = LinearRegression()\n",
        "model_0.fit(X_train_n, y0_train)\n",
        "y0_train_pred = model_0.predict(X_train_n)\n",
        "y0_val_pred = model_0.predict(X_val_n)\n",
        "\n",
        "model_1 = LinearRegression()\n",
        "model_1.fit(X_train_n, y1_train)\n",
        "y1_train_pred = model_1.predict(X_train_n)\n",
        "y1_val_pred = model_1.predict(X_val_n)\n",
        "print('MSE train: {:.3f}, test: {:.3f}'.format(\n",
        "        mean_absolute_percentage_error(y0_train, y0_train_pred),\n",
        "        mean_absolute_percentage_error(y0_val, y0_val_pred)))\n",
        "print('R^2 train: {:.3f}, test: {:.3f}'.format(\n",
        "        r2_score(y0_train, y0_train_pred),\n",
        "        r2_score(y0_val, y0_val_pred)))\n",
        "print('MSE train: {:.3f}, test: {:.3f}'.format(\n",
        "        mean_absolute_percentage_error(y1_train, y1_train_pred),\n",
        "        mean_absolute_percentage_error(y1_val, y1_val_pred)))\n",
        "print('R^2 train: {:.3f}, test: {:.3f}'.format(\n",
        "        r2_score(y1_train, y1_train_pred),\n",
        "        r2_score(y1_val, y1_val_pred)))"
      ],
      "metadata": {
        "colab": {
          "base_uri": "https://localhost:8080/"
        },
        "id": "EX9k5HbRYDYZ",
        "outputId": "598956c6-a72b-4c6d-8810-ef0c7d6b36b6"
      },
      "execution_count": null,
      "outputs": [
        {
          "output_type": "stream",
          "name": "stdout",
          "text": [
            "MSE train: 0.032, test: 0.032\n",
            "R^2 train: 0.997, test: 0.997\n",
            "MSE train: 0.402, test: 0.400\n",
            "R^2 train: 0.971, test: 0.971\n"
          ]
        }
      ]
    },
    {
      "cell_type": "markdown",
      "source": [
        "Нормализация никак не повлияла на результат"
      ],
      "metadata": {
        "id": "oEp58dmQYyl8"
      }
    },
    {
      "cell_type": "markdown",
      "source": [
        "Возможно зависимость таргетов от признаков нелинейная. Попробуем апроксимировать данные полиномом второй степени. Для этого преобразуем данные с помощью PolynomialFeatures из библиотеки sklearn."
      ],
      "metadata": {
        "id": "DI2ZfjA8ZHNt"
      }
    },
    {
      "cell_type": "code",
      "source": [
        "from sklearn.preprocessing import PolynomialFeatures"
      ],
      "metadata": {
        "id": "dHn4cKtdZxZl"
      },
      "execution_count": null,
      "outputs": []
    },
    {
      "cell_type": "code",
      "source": [
        "poly = PolynomialFeatures(degree=2, include_bias=False)\n",
        "poly_features = poly.fit_transform(X)"
      ],
      "metadata": {
        "id": "ZR-sICdVYG37"
      },
      "execution_count": null,
      "outputs": []
    },
    {
      "cell_type": "code",
      "source": [
        "X_train, X_val, y0_train, y0_val = train_test_split(poly_features, y0,\n",
        "                                                    test_size=0.25, random_state=42)\n",
        "X_train, X_val, y0_train, y1_val = train_test_split(poly_features, y1,\n",
        "                                                    test_size=0.25, random_state=42)"
      ],
      "metadata": {
        "id": "GJJBLpZZaJqe"
      },
      "execution_count": null,
      "outputs": []
    },
    {
      "cell_type": "markdown",
      "source": [
        "посмотрим как изменяться метрики"
      ],
      "metadata": {
        "id": "VsFkQcTDaafe"
      }
    },
    {
      "cell_type": "code",
      "source": [
        "model_0 = LinearRegression()\n",
        "model_0.fit(X_train, y0_train)\n",
        "y0_train_pred = model_0.predict(X_train)\n",
        "y0_val_pred = model_0.predict(X_val)\n",
        "\n",
        "model_1 = LinearRegression()\n",
        "model_1.fit(X_train, y1_train)\n",
        "y1_train_pred = model_1.predict(X_train)\n",
        "y1_val_pred = model_1.predict(X_val)\n",
        "print('MSE train: {:.3f}, test: {:.3f}'.format(\n",
        "        mean_absolute_percentage_error(y0_train, y0_train_pred),\n",
        "        mean_absolute_percentage_error(y0_val, y0_val_pred)))\n",
        "print('R^2 train: {:.3f}, test: {:.3f}'.format(\n",
        "        r2_score(y0_train, y0_train_pred),\n",
        "        r2_score(y0_val, y0_val_pred)))\n",
        "print('MSE train: {:.3f}, test: {:.3f}'.format(\n",
        "        mean_absolute_percentage_error(y1_train, y1_train_pred),\n",
        "        mean_absolute_percentage_error(y1_val, y1_val_pred)))\n",
        "print('R^2 train: {:.3f}, test: {:.3f}'.format(\n",
        "        r2_score(y1_train, y1_train_pred),\n",
        "        r2_score(y1_val, y1_val_pred)))"
      ],
      "metadata": {
        "colab": {
          "base_uri": "https://localhost:8080/"
        },
        "id": "fuZr0WPsag76",
        "outputId": "c59b86c5-7207-45d4-8874-517ff8396da2"
      },
      "execution_count": null,
      "outputs": [
        {
          "output_type": "stream",
          "name": "stdout",
          "text": [
            "MSE train: 0.053, test: 0.637\n",
            "R^2 train: 0.999, test: 0.113\n",
            "MSE train: 0.053, test: 0.052\n",
            "R^2 train: 0.999, test: 0.999\n"
          ]
        }
      ]
    },
    {
      "cell_type": "markdown",
      "source": [
        "Показатели по 'target0' ухудшили, в то время как по 'target1' существенно улучшились, что говорит о том, что 'target1' нелинейно зависит от признаков. "
      ],
      "metadata": {
        "id": "aDARfmb8briZ"
      }
    },
    {
      "cell_type": "markdown",
      "source": [
        "Сохраним полученные модели в файл"
      ],
      "metadata": {
        "id": "tnyELRRBcVO0"
      }
    },
    {
      "cell_type": "code",
      "source": [
        "target0 = \"target0.pkl\"\n",
        "with open(target0, 'wb') as file:\n",
        "    pickle.dump(model_0, file)\n",
        "target1 = \"target1.pkl\"\n",
        "with open(target1, 'wb') as file:\n",
        "    pickle.dump(model_1, file)"
      ],
      "metadata": {
        "id": "8VwMFd_TcTug"
      },
      "execution_count": null,
      "outputs": []
    },
    {
      "cell_type": "markdown",
      "source": [
        "Подготовим сабмит и запишем файл предикт"
      ],
      "metadata": {
        "id": "c3XEN5npgGW9"
      }
    },
    {
      "cell_type": "code",
      "source": [
        "%%writefile predict.py\n",
        "import pandas as pd\n",
        "from sklearn import preprocessing\n",
        "import pickle\n",
        "import pathlib\n",
        "\n",
        "\n",
        "le = preprocessing.LabelEncoder()\n",
        "\n",
        "\n",
        "\n",
        "DATA_DIR = pathlib.Path(\".\")\n",
        "MODEL_FILE_0 = pathlib.Path(__file__).parent.joinpath(\"target0.pkl\")\n",
        "MODEL_FILE_1 = pathlib.Path(__file__).parent.joinpath(\"target1.pkl\")\n",
        "\n",
        "with open(MODEL_FILE_0, 'rb') as f:\n",
        "    MODEL_0 = pickle.load(f)\n",
        "with open(MODEL_FILE_1, 'rb') as f:\n",
        "    MODEL_1 = pickle.load(f)\n",
        "\n",
        "\n",
        "def predict(df: pd.DataFrame) -> pd.DataFrame:\n",
        "    \"\"\"\n",
        "    Вычисление предсказаний.\n",
        "\n",
        "    Параметры:\n",
        "        df:\n",
        "          датафрейм, содержащий строки из тестового множества.\n",
        "          Типы и имена колонок совпадают с типами и именами в ноутбуке, не содержит `np.nan` или `np.inf`.\n",
        "\n",
        "    Результат:\n",
        "        Датафрейм предсказаний.\n",
        "        Должен содержать то же количество строк и в том же порядке, а также колонки `target0` и `target1`.\n",
        "    \"\"\"\n",
        "\n",
        "    predictions = {}\n",
        "\n",
        "    df['feature4'] = le.fit_transform(df['feature4'])\n",
        "    FTS = df.columns\n",
        "\n",
        "    for target, model in zip([\"target0\", \"target1\"], [MODEL_0, MODEL_1]):\n",
        "\n",
        "        predictions[target] = model.predict(df[FTS])\n",
        "\n",
        "    preds_df = pd.DataFrame(predictions, index=df.index)\n",
        "    return preds_df"
      ],
      "metadata": {
        "colab": {
          "base_uri": "https://localhost:8080/"
        },
        "id": "QPRgakjJgeZM",
        "outputId": "16cdd0e1-34cd-4cb5-926b-173d3b3826e3"
      },
      "execution_count": null,
      "outputs": [
        {
          "output_type": "stream",
          "name": "stdout",
          "text": [
            "Writing predict.py\n"
          ]
        }
      ]
    },
    {
      "cell_type": "markdown",
      "source": [
        "Запишем файл requirements.txt с версиями используемых библиотек"
      ],
      "metadata": {
        "id": "p8O1oYDlgpuy"
      }
    },
    {
      "cell_type": "code",
      "source": [
        "!pip3 freeze > requirements.txt"
      ],
      "metadata": {
        "id": "PZf1VBihgugA"
      },
      "execution_count": null,
      "outputs": []
    }
  ]
}