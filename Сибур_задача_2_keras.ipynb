{
  "cells": [
    {
      "cell_type": "markdown",
      "source": [
        "#Задача №2 - решение задачи нелинейной регрессии с использованием полносвязной нейронной сети"
      ],
      "metadata": {
        "id": "FFr-C3tfBzkj"
      }
    },
    {
      "cell_type": "markdown",
      "source": [
        "Загрузим файл с данными с гугл диска"
      ],
      "metadata": {
        "id": "t-WlDdW2BSCg"
      }
    },
    {
      "cell_type": "code",
      "execution_count": 1,
      "metadata": {
        "colab": {
          "base_uri": "https://localhost:8080/"
        },
        "id": "Z0gkOsjuv2LK",
        "outputId": "1917339a-7268-4165-d482-b9f4c2b765da"
      },
      "outputs": [
        {
          "output_type": "stream",
          "name": "stdout",
          "text": [
            "/usr/local/lib/python3.10/dist-packages/gdown/cli.py:121: FutureWarning: Option `--id` was deprecated in version 4.3.1 and will be removed in 5.0. You don't need to pass it anymore to use a file ID.\n",
            "  warnings.warn(\n",
            "Downloading...\n",
            "From: https://drive.google.com/uc?id=1kD8_4C7Pwe_VUj8zNmUFmKeWGClussAr\n",
            "To: /content/train_sibur_2task.parquet\n",
            "100% 33.9M/33.9M [00:00<00:00, 88.9MB/s]\n"
          ]
        }
      ],
      "source": [
        "! gdown --id 1kD8_4C7Pwe_VUj8zNmUFmKeWGClussAr"
      ]
    },
    {
      "cell_type": "markdown",
      "source": [
        "Импортируем необходимые библиотеки\n"
      ],
      "metadata": {
        "id": "4GnR-mujBrC-"
      }
    },
    {
      "cell_type": "code",
      "source": [
        "from keras.models import Sequential\n",
        "from keras.layers import Dense\n",
        "from keras.layers import Dropout\n",
        "from keras.optimizers import Adam\n",
        "import keras\n",
        "from keras.callbacks import EarlyStopping\n",
        "import pandas as pd "
      ],
      "metadata": {
        "id": "s9Uv8R3Cu-0-"
      },
      "execution_count": 8,
      "outputs": []
    },
    {
      "cell_type": "markdown",
      "source": [
        "Откроем файл с данными и посмотрим в каком виде хранятся данные"
      ],
      "metadata": {
        "id": "pm_hxbkhCNqG"
      }
    },
    {
      "cell_type": "code",
      "execution_count": 3,
      "metadata": {
        "colab": {
          "base_uri": "https://localhost:8080/",
          "height": 299
        },
        "id": "JxM9RL4lwRBm",
        "outputId": "6bb9a0c9-4bc2-4169-bf6a-5939e081b45b"
      },
      "outputs": [
        {
          "output_type": "execute_result",
          "data": {
            "text/plain": [
              "    feature0   feature1   feature2   feature3 feature4   feature5   feature6  \\\n",
              "0  32.910908  17.376350  77.557840   2.929855     gas1  20.487150  57.633085   \n",
              "1  41.263782  22.419445  47.945514 -25.847472     gas2  21.461239   3.474080   \n",
              "2  25.580283  17.376350  77.654180   2.799411     gas1  20.487150  28.938295   \n",
              "3  33.756900  17.376350  73.049625   2.953982     gas1  20.487150  28.932311   \n",
              "4   4.223732  38.772534  48.015553 -25.843943     gas2  24.635721  12.011581   \n",
              "\n",
              "    feature7   feature8   feature9  ...  feature17  feature18   feature19  \\\n",
              "0  49.245392 -44.124381  23.400064  ...  14.203652   9.689942   17.951627   \n",
              "1  49.659980 -13.553188 -13.047593  ... -14.451904  -0.906120  105.724742   \n",
              "2  49.245392 -44.124381  20.610679  ...  14.395054   9.779019   17.951638   \n",
              "3  49.245392 -44.124381  18.107963  ...  14.184314   9.798969   17.951675   \n",
              "4  51.030938  84.244199 -17.735680  ... -14.439953   8.262354   90.187207   \n",
              "\n",
              "   feature20   feature21   feature22  feature23   feature24    target0  \\\n",
              "0  24.198589  102.448710  110.529868  56.817260   12.887802  27.050891   \n",
              "1  -9.435222  -16.060150   37.286110  61.224272   39.822424  84.127890   \n",
              "2  24.999453  101.728213  111.471534  52.664304   12.887802  22.080133   \n",
              "3  23.990300  101.312113  115.589451  56.840719   12.887802  30.234082   \n",
              "4  -2.901661  -16.060150   37.398779  40.488468  128.295838  71.128092   \n",
              "\n",
              "     target1  \n",
              "0   6.502743  \n",
              "1  76.578716  \n",
              "2   3.036043  \n",
              "3   8.910795  \n",
              "4  50.475082  \n",
              "\n",
              "[5 rows x 27 columns]"
            ],
            "text/html": [
              "\n",
              "  <div id=\"df-61256ddc-6c20-4d15-a000-1baf2b2d441f\">\n",
              "    <div class=\"colab-df-container\">\n",
              "      <div>\n",
              "<style scoped>\n",
              "    .dataframe tbody tr th:only-of-type {\n",
              "        vertical-align: middle;\n",
              "    }\n",
              "\n",
              "    .dataframe tbody tr th {\n",
              "        vertical-align: top;\n",
              "    }\n",
              "\n",
              "    .dataframe thead th {\n",
              "        text-align: right;\n",
              "    }\n",
              "</style>\n",
              "<table border=\"1\" class=\"dataframe\">\n",
              "  <thead>\n",
              "    <tr style=\"text-align: right;\">\n",
              "      <th></th>\n",
              "      <th>feature0</th>\n",
              "      <th>feature1</th>\n",
              "      <th>feature2</th>\n",
              "      <th>feature3</th>\n",
              "      <th>feature4</th>\n",
              "      <th>feature5</th>\n",
              "      <th>feature6</th>\n",
              "      <th>feature7</th>\n",
              "      <th>feature8</th>\n",
              "      <th>feature9</th>\n",
              "      <th>...</th>\n",
              "      <th>feature17</th>\n",
              "      <th>feature18</th>\n",
              "      <th>feature19</th>\n",
              "      <th>feature20</th>\n",
              "      <th>feature21</th>\n",
              "      <th>feature22</th>\n",
              "      <th>feature23</th>\n",
              "      <th>feature24</th>\n",
              "      <th>target0</th>\n",
              "      <th>target1</th>\n",
              "    </tr>\n",
              "  </thead>\n",
              "  <tbody>\n",
              "    <tr>\n",
              "      <th>0</th>\n",
              "      <td>32.910908</td>\n",
              "      <td>17.376350</td>\n",
              "      <td>77.557840</td>\n",
              "      <td>2.929855</td>\n",
              "      <td>gas1</td>\n",
              "      <td>20.487150</td>\n",
              "      <td>57.633085</td>\n",
              "      <td>49.245392</td>\n",
              "      <td>-44.124381</td>\n",
              "      <td>23.400064</td>\n",
              "      <td>...</td>\n",
              "      <td>14.203652</td>\n",
              "      <td>9.689942</td>\n",
              "      <td>17.951627</td>\n",
              "      <td>24.198589</td>\n",
              "      <td>102.448710</td>\n",
              "      <td>110.529868</td>\n",
              "      <td>56.817260</td>\n",
              "      <td>12.887802</td>\n",
              "      <td>27.050891</td>\n",
              "      <td>6.502743</td>\n",
              "    </tr>\n",
              "    <tr>\n",
              "      <th>1</th>\n",
              "      <td>41.263782</td>\n",
              "      <td>22.419445</td>\n",
              "      <td>47.945514</td>\n",
              "      <td>-25.847472</td>\n",
              "      <td>gas2</td>\n",
              "      <td>21.461239</td>\n",
              "      <td>3.474080</td>\n",
              "      <td>49.659980</td>\n",
              "      <td>-13.553188</td>\n",
              "      <td>-13.047593</td>\n",
              "      <td>...</td>\n",
              "      <td>-14.451904</td>\n",
              "      <td>-0.906120</td>\n",
              "      <td>105.724742</td>\n",
              "      <td>-9.435222</td>\n",
              "      <td>-16.060150</td>\n",
              "      <td>37.286110</td>\n",
              "      <td>61.224272</td>\n",
              "      <td>39.822424</td>\n",
              "      <td>84.127890</td>\n",
              "      <td>76.578716</td>\n",
              "    </tr>\n",
              "    <tr>\n",
              "      <th>2</th>\n",
              "      <td>25.580283</td>\n",
              "      <td>17.376350</td>\n",
              "      <td>77.654180</td>\n",
              "      <td>2.799411</td>\n",
              "      <td>gas1</td>\n",
              "      <td>20.487150</td>\n",
              "      <td>28.938295</td>\n",
              "      <td>49.245392</td>\n",
              "      <td>-44.124381</td>\n",
              "      <td>20.610679</td>\n",
              "      <td>...</td>\n",
              "      <td>14.395054</td>\n",
              "      <td>9.779019</td>\n",
              "      <td>17.951638</td>\n",
              "      <td>24.999453</td>\n",
              "      <td>101.728213</td>\n",
              "      <td>111.471534</td>\n",
              "      <td>52.664304</td>\n",
              "      <td>12.887802</td>\n",
              "      <td>22.080133</td>\n",
              "      <td>3.036043</td>\n",
              "    </tr>\n",
              "    <tr>\n",
              "      <th>3</th>\n",
              "      <td>33.756900</td>\n",
              "      <td>17.376350</td>\n",
              "      <td>73.049625</td>\n",
              "      <td>2.953982</td>\n",
              "      <td>gas1</td>\n",
              "      <td>20.487150</td>\n",
              "      <td>28.932311</td>\n",
              "      <td>49.245392</td>\n",
              "      <td>-44.124381</td>\n",
              "      <td>18.107963</td>\n",
              "      <td>...</td>\n",
              "      <td>14.184314</td>\n",
              "      <td>9.798969</td>\n",
              "      <td>17.951675</td>\n",
              "      <td>23.990300</td>\n",
              "      <td>101.312113</td>\n",
              "      <td>115.589451</td>\n",
              "      <td>56.840719</td>\n",
              "      <td>12.887802</td>\n",
              "      <td>30.234082</td>\n",
              "      <td>8.910795</td>\n",
              "    </tr>\n",
              "    <tr>\n",
              "      <th>4</th>\n",
              "      <td>4.223732</td>\n",
              "      <td>38.772534</td>\n",
              "      <td>48.015553</td>\n",
              "      <td>-25.843943</td>\n",
              "      <td>gas2</td>\n",
              "      <td>24.635721</td>\n",
              "      <td>12.011581</td>\n",
              "      <td>51.030938</td>\n",
              "      <td>84.244199</td>\n",
              "      <td>-17.735680</td>\n",
              "      <td>...</td>\n",
              "      <td>-14.439953</td>\n",
              "      <td>8.262354</td>\n",
              "      <td>90.187207</td>\n",
              "      <td>-2.901661</td>\n",
              "      <td>-16.060150</td>\n",
              "      <td>37.398779</td>\n",
              "      <td>40.488468</td>\n",
              "      <td>128.295838</td>\n",
              "      <td>71.128092</td>\n",
              "      <td>50.475082</td>\n",
              "    </tr>\n",
              "  </tbody>\n",
              "</table>\n",
              "<p>5 rows × 27 columns</p>\n",
              "</div>\n",
              "      <button class=\"colab-df-convert\" onclick=\"convertToInteractive('df-61256ddc-6c20-4d15-a000-1baf2b2d441f')\"\n",
              "              title=\"Convert this dataframe to an interactive table.\"\n",
              "              style=\"display:none;\">\n",
              "        \n",
              "  <svg xmlns=\"http://www.w3.org/2000/svg\" height=\"24px\"viewBox=\"0 0 24 24\"\n",
              "       width=\"24px\">\n",
              "    <path d=\"M0 0h24v24H0V0z\" fill=\"none\"/>\n",
              "    <path d=\"M18.56 5.44l.94 2.06.94-2.06 2.06-.94-2.06-.94-.94-2.06-.94 2.06-2.06.94zm-11 1L8.5 8.5l.94-2.06 2.06-.94-2.06-.94L8.5 2.5l-.94 2.06-2.06.94zm10 10l.94 2.06.94-2.06 2.06-.94-2.06-.94-.94-2.06-.94 2.06-2.06.94z\"/><path d=\"M17.41 7.96l-1.37-1.37c-.4-.4-.92-.59-1.43-.59-.52 0-1.04.2-1.43.59L10.3 9.45l-7.72 7.72c-.78.78-.78 2.05 0 2.83L4 21.41c.39.39.9.59 1.41.59.51 0 1.02-.2 1.41-.59l7.78-7.78 2.81-2.81c.8-.78.8-2.07 0-2.86zM5.41 20L4 18.59l7.72-7.72 1.47 1.35L5.41 20z\"/>\n",
              "  </svg>\n",
              "      </button>\n",
              "      \n",
              "  <style>\n",
              "    .colab-df-container {\n",
              "      display:flex;\n",
              "      flex-wrap:wrap;\n",
              "      gap: 12px;\n",
              "    }\n",
              "\n",
              "    .colab-df-convert {\n",
              "      background-color: #E8F0FE;\n",
              "      border: none;\n",
              "      border-radius: 50%;\n",
              "      cursor: pointer;\n",
              "      display: none;\n",
              "      fill: #1967D2;\n",
              "      height: 32px;\n",
              "      padding: 0 0 0 0;\n",
              "      width: 32px;\n",
              "    }\n",
              "\n",
              "    .colab-df-convert:hover {\n",
              "      background-color: #E2EBFA;\n",
              "      box-shadow: 0px 1px 2px rgba(60, 64, 67, 0.3), 0px 1px 3px 1px rgba(60, 64, 67, 0.15);\n",
              "      fill: #174EA6;\n",
              "    }\n",
              "\n",
              "    [theme=dark] .colab-df-convert {\n",
              "      background-color: #3B4455;\n",
              "      fill: #D2E3FC;\n",
              "    }\n",
              "\n",
              "    [theme=dark] .colab-df-convert:hover {\n",
              "      background-color: #434B5C;\n",
              "      box-shadow: 0px 1px 3px 1px rgba(0, 0, 0, 0.15);\n",
              "      filter: drop-shadow(0px 1px 2px rgba(0, 0, 0, 0.3));\n",
              "      fill: #FFFFFF;\n",
              "    }\n",
              "  </style>\n",
              "\n",
              "      <script>\n",
              "        const buttonEl =\n",
              "          document.querySelector('#df-61256ddc-6c20-4d15-a000-1baf2b2d441f button.colab-df-convert');\n",
              "        buttonEl.style.display =\n",
              "          google.colab.kernel.accessAllowed ? 'block' : 'none';\n",
              "\n",
              "        async function convertToInteractive(key) {\n",
              "          const element = document.querySelector('#df-61256ddc-6c20-4d15-a000-1baf2b2d441f');\n",
              "          const dataTable =\n",
              "            await google.colab.kernel.invokeFunction('convertToInteractive',\n",
              "                                                     [key], {});\n",
              "          if (!dataTable) return;\n",
              "\n",
              "          const docLinkHtml = 'Like what you see? Visit the ' +\n",
              "            '<a target=\"_blank\" href=https://colab.research.google.com/notebooks/data_table.ipynb>data table notebook</a>'\n",
              "            + ' to learn more about interactive tables.';\n",
              "          element.innerHTML = '';\n",
              "          dataTable['output_type'] = 'display_data';\n",
              "          await google.colab.output.renderOutput(dataTable, element);\n",
              "          const docLink = document.createElement('div');\n",
              "          docLink.innerHTML = docLinkHtml;\n",
              "          element.appendChild(docLink);\n",
              "        }\n",
              "      </script>\n",
              "    </div>\n",
              "  </div>\n",
              "  "
            ]
          },
          "metadata": {},
          "execution_count": 3
        }
      ],
      "source": [
        "data_train = pd.read_parquet(\"/content/train_sibur_2task.parquet\", engine='pyarrow')\n",
        "data_train.head()"
      ]
    },
    {
      "cell_type": "markdown",
      "source": [
        "Признак feature4 - это категориальная переменная, которая принимает 2 значения: \"gas1\" и \"gas2\". Заменим значения на числовые (0, 1) с помощью LabelEncoder() из библиотеки sklearn"
      ],
      "metadata": {
        "id": "qM92IdEFCi-J"
      }
    },
    {
      "cell_type": "code",
      "execution_count": 4,
      "metadata": {
        "colab": {
          "base_uri": "https://localhost:8080/",
          "height": 299
        },
        "id": "D8GQ0LXuwXLr",
        "outputId": "6fd05254-790f-4684-ef22-3b80e6be6633"
      },
      "outputs": [
        {
          "output_type": "execute_result",
          "data": {
            "text/plain": [
              "    feature0   feature1   feature2   feature3  feature4   feature5   feature6  \\\n",
              "0  32.910908  17.376350  77.557840   2.929855         0  20.487150  57.633085   \n",
              "1  41.263782  22.419445  47.945514 -25.847472         1  21.461239   3.474080   \n",
              "2  25.580283  17.376350  77.654180   2.799411         0  20.487150  28.938295   \n",
              "3  33.756900  17.376350  73.049625   2.953982         0  20.487150  28.932311   \n",
              "4   4.223732  38.772534  48.015553 -25.843943         1  24.635721  12.011581   \n",
              "\n",
              "    feature7   feature8   feature9  ...  feature17  feature18   feature19  \\\n",
              "0  49.245392 -44.124381  23.400064  ...  14.203652   9.689942   17.951627   \n",
              "1  49.659980 -13.553188 -13.047593  ... -14.451904  -0.906120  105.724742   \n",
              "2  49.245392 -44.124381  20.610679  ...  14.395054   9.779019   17.951638   \n",
              "3  49.245392 -44.124381  18.107963  ...  14.184314   9.798969   17.951675   \n",
              "4  51.030938  84.244199 -17.735680  ... -14.439953   8.262354   90.187207   \n",
              "\n",
              "   feature20   feature21   feature22  feature23   feature24    target0  \\\n",
              "0  24.198589  102.448710  110.529868  56.817260   12.887802  27.050891   \n",
              "1  -9.435222  -16.060150   37.286110  61.224272   39.822424  84.127890   \n",
              "2  24.999453  101.728213  111.471534  52.664304   12.887802  22.080133   \n",
              "3  23.990300  101.312113  115.589451  56.840719   12.887802  30.234082   \n",
              "4  -2.901661  -16.060150   37.398779  40.488468  128.295838  71.128092   \n",
              "\n",
              "     target1  \n",
              "0   6.502743  \n",
              "1  76.578716  \n",
              "2   3.036043  \n",
              "3   8.910795  \n",
              "4  50.475082  \n",
              "\n",
              "[5 rows x 27 columns]"
            ],
            "text/html": [
              "\n",
              "  <div id=\"df-2062b9c1-81af-4f58-9f70-d88d46162174\">\n",
              "    <div class=\"colab-df-container\">\n",
              "      <div>\n",
              "<style scoped>\n",
              "    .dataframe tbody tr th:only-of-type {\n",
              "        vertical-align: middle;\n",
              "    }\n",
              "\n",
              "    .dataframe tbody tr th {\n",
              "        vertical-align: top;\n",
              "    }\n",
              "\n",
              "    .dataframe thead th {\n",
              "        text-align: right;\n",
              "    }\n",
              "</style>\n",
              "<table border=\"1\" class=\"dataframe\">\n",
              "  <thead>\n",
              "    <tr style=\"text-align: right;\">\n",
              "      <th></th>\n",
              "      <th>feature0</th>\n",
              "      <th>feature1</th>\n",
              "      <th>feature2</th>\n",
              "      <th>feature3</th>\n",
              "      <th>feature4</th>\n",
              "      <th>feature5</th>\n",
              "      <th>feature6</th>\n",
              "      <th>feature7</th>\n",
              "      <th>feature8</th>\n",
              "      <th>feature9</th>\n",
              "      <th>...</th>\n",
              "      <th>feature17</th>\n",
              "      <th>feature18</th>\n",
              "      <th>feature19</th>\n",
              "      <th>feature20</th>\n",
              "      <th>feature21</th>\n",
              "      <th>feature22</th>\n",
              "      <th>feature23</th>\n",
              "      <th>feature24</th>\n",
              "      <th>target0</th>\n",
              "      <th>target1</th>\n",
              "    </tr>\n",
              "  </thead>\n",
              "  <tbody>\n",
              "    <tr>\n",
              "      <th>0</th>\n",
              "      <td>32.910908</td>\n",
              "      <td>17.376350</td>\n",
              "      <td>77.557840</td>\n",
              "      <td>2.929855</td>\n",
              "      <td>0</td>\n",
              "      <td>20.487150</td>\n",
              "      <td>57.633085</td>\n",
              "      <td>49.245392</td>\n",
              "      <td>-44.124381</td>\n",
              "      <td>23.400064</td>\n",
              "      <td>...</td>\n",
              "      <td>14.203652</td>\n",
              "      <td>9.689942</td>\n",
              "      <td>17.951627</td>\n",
              "      <td>24.198589</td>\n",
              "      <td>102.448710</td>\n",
              "      <td>110.529868</td>\n",
              "      <td>56.817260</td>\n",
              "      <td>12.887802</td>\n",
              "      <td>27.050891</td>\n",
              "      <td>6.502743</td>\n",
              "    </tr>\n",
              "    <tr>\n",
              "      <th>1</th>\n",
              "      <td>41.263782</td>\n",
              "      <td>22.419445</td>\n",
              "      <td>47.945514</td>\n",
              "      <td>-25.847472</td>\n",
              "      <td>1</td>\n",
              "      <td>21.461239</td>\n",
              "      <td>3.474080</td>\n",
              "      <td>49.659980</td>\n",
              "      <td>-13.553188</td>\n",
              "      <td>-13.047593</td>\n",
              "      <td>...</td>\n",
              "      <td>-14.451904</td>\n",
              "      <td>-0.906120</td>\n",
              "      <td>105.724742</td>\n",
              "      <td>-9.435222</td>\n",
              "      <td>-16.060150</td>\n",
              "      <td>37.286110</td>\n",
              "      <td>61.224272</td>\n",
              "      <td>39.822424</td>\n",
              "      <td>84.127890</td>\n",
              "      <td>76.578716</td>\n",
              "    </tr>\n",
              "    <tr>\n",
              "      <th>2</th>\n",
              "      <td>25.580283</td>\n",
              "      <td>17.376350</td>\n",
              "      <td>77.654180</td>\n",
              "      <td>2.799411</td>\n",
              "      <td>0</td>\n",
              "      <td>20.487150</td>\n",
              "      <td>28.938295</td>\n",
              "      <td>49.245392</td>\n",
              "      <td>-44.124381</td>\n",
              "      <td>20.610679</td>\n",
              "      <td>...</td>\n",
              "      <td>14.395054</td>\n",
              "      <td>9.779019</td>\n",
              "      <td>17.951638</td>\n",
              "      <td>24.999453</td>\n",
              "      <td>101.728213</td>\n",
              "      <td>111.471534</td>\n",
              "      <td>52.664304</td>\n",
              "      <td>12.887802</td>\n",
              "      <td>22.080133</td>\n",
              "      <td>3.036043</td>\n",
              "    </tr>\n",
              "    <tr>\n",
              "      <th>3</th>\n",
              "      <td>33.756900</td>\n",
              "      <td>17.376350</td>\n",
              "      <td>73.049625</td>\n",
              "      <td>2.953982</td>\n",
              "      <td>0</td>\n",
              "      <td>20.487150</td>\n",
              "      <td>28.932311</td>\n",
              "      <td>49.245392</td>\n",
              "      <td>-44.124381</td>\n",
              "      <td>18.107963</td>\n",
              "      <td>...</td>\n",
              "      <td>14.184314</td>\n",
              "      <td>9.798969</td>\n",
              "      <td>17.951675</td>\n",
              "      <td>23.990300</td>\n",
              "      <td>101.312113</td>\n",
              "      <td>115.589451</td>\n",
              "      <td>56.840719</td>\n",
              "      <td>12.887802</td>\n",
              "      <td>30.234082</td>\n",
              "      <td>8.910795</td>\n",
              "    </tr>\n",
              "    <tr>\n",
              "      <th>4</th>\n",
              "      <td>4.223732</td>\n",
              "      <td>38.772534</td>\n",
              "      <td>48.015553</td>\n",
              "      <td>-25.843943</td>\n",
              "      <td>1</td>\n",
              "      <td>24.635721</td>\n",
              "      <td>12.011581</td>\n",
              "      <td>51.030938</td>\n",
              "      <td>84.244199</td>\n",
              "      <td>-17.735680</td>\n",
              "      <td>...</td>\n",
              "      <td>-14.439953</td>\n",
              "      <td>8.262354</td>\n",
              "      <td>90.187207</td>\n",
              "      <td>-2.901661</td>\n",
              "      <td>-16.060150</td>\n",
              "      <td>37.398779</td>\n",
              "      <td>40.488468</td>\n",
              "      <td>128.295838</td>\n",
              "      <td>71.128092</td>\n",
              "      <td>50.475082</td>\n",
              "    </tr>\n",
              "  </tbody>\n",
              "</table>\n",
              "<p>5 rows × 27 columns</p>\n",
              "</div>\n",
              "      <button class=\"colab-df-convert\" onclick=\"convertToInteractive('df-2062b9c1-81af-4f58-9f70-d88d46162174')\"\n",
              "              title=\"Convert this dataframe to an interactive table.\"\n",
              "              style=\"display:none;\">\n",
              "        \n",
              "  <svg xmlns=\"http://www.w3.org/2000/svg\" height=\"24px\"viewBox=\"0 0 24 24\"\n",
              "       width=\"24px\">\n",
              "    <path d=\"M0 0h24v24H0V0z\" fill=\"none\"/>\n",
              "    <path d=\"M18.56 5.44l.94 2.06.94-2.06 2.06-.94-2.06-.94-.94-2.06-.94 2.06-2.06.94zm-11 1L8.5 8.5l.94-2.06 2.06-.94-2.06-.94L8.5 2.5l-.94 2.06-2.06.94zm10 10l.94 2.06.94-2.06 2.06-.94-2.06-.94-.94-2.06-.94 2.06-2.06.94z\"/><path d=\"M17.41 7.96l-1.37-1.37c-.4-.4-.92-.59-1.43-.59-.52 0-1.04.2-1.43.59L10.3 9.45l-7.72 7.72c-.78.78-.78 2.05 0 2.83L4 21.41c.39.39.9.59 1.41.59.51 0 1.02-.2 1.41-.59l7.78-7.78 2.81-2.81c.8-.78.8-2.07 0-2.86zM5.41 20L4 18.59l7.72-7.72 1.47 1.35L5.41 20z\"/>\n",
              "  </svg>\n",
              "      </button>\n",
              "      \n",
              "  <style>\n",
              "    .colab-df-container {\n",
              "      display:flex;\n",
              "      flex-wrap:wrap;\n",
              "      gap: 12px;\n",
              "    }\n",
              "\n",
              "    .colab-df-convert {\n",
              "      background-color: #E8F0FE;\n",
              "      border: none;\n",
              "      border-radius: 50%;\n",
              "      cursor: pointer;\n",
              "      display: none;\n",
              "      fill: #1967D2;\n",
              "      height: 32px;\n",
              "      padding: 0 0 0 0;\n",
              "      width: 32px;\n",
              "    }\n",
              "\n",
              "    .colab-df-convert:hover {\n",
              "      background-color: #E2EBFA;\n",
              "      box-shadow: 0px 1px 2px rgba(60, 64, 67, 0.3), 0px 1px 3px 1px rgba(60, 64, 67, 0.15);\n",
              "      fill: #174EA6;\n",
              "    }\n",
              "\n",
              "    [theme=dark] .colab-df-convert {\n",
              "      background-color: #3B4455;\n",
              "      fill: #D2E3FC;\n",
              "    }\n",
              "\n",
              "    [theme=dark] .colab-df-convert:hover {\n",
              "      background-color: #434B5C;\n",
              "      box-shadow: 0px 1px 3px 1px rgba(0, 0, 0, 0.15);\n",
              "      filter: drop-shadow(0px 1px 2px rgba(0, 0, 0, 0.3));\n",
              "      fill: #FFFFFF;\n",
              "    }\n",
              "  </style>\n",
              "\n",
              "      <script>\n",
              "        const buttonEl =\n",
              "          document.querySelector('#df-2062b9c1-81af-4f58-9f70-d88d46162174 button.colab-df-convert');\n",
              "        buttonEl.style.display =\n",
              "          google.colab.kernel.accessAllowed ? 'block' : 'none';\n",
              "\n",
              "        async function convertToInteractive(key) {\n",
              "          const element = document.querySelector('#df-2062b9c1-81af-4f58-9f70-d88d46162174');\n",
              "          const dataTable =\n",
              "            await google.colab.kernel.invokeFunction('convertToInteractive',\n",
              "                                                     [key], {});\n",
              "          if (!dataTable) return;\n",
              "\n",
              "          const docLinkHtml = 'Like what you see? Visit the ' +\n",
              "            '<a target=\"_blank\" href=https://colab.research.google.com/notebooks/data_table.ipynb>data table notebook</a>'\n",
              "            + ' to learn more about interactive tables.';\n",
              "          element.innerHTML = '';\n",
              "          dataTable['output_type'] = 'display_data';\n",
              "          await google.colab.output.renderOutput(dataTable, element);\n",
              "          const docLink = document.createElement('div');\n",
              "          docLink.innerHTML = docLinkHtml;\n",
              "          element.appendChild(docLink);\n",
              "        }\n",
              "      </script>\n",
              "    </div>\n",
              "  </div>\n",
              "  "
            ]
          },
          "metadata": {},
          "execution_count": 4
        }
      ],
      "source": [
        "from sklearn import preprocessing\n",
        "le = preprocessing.LabelEncoder()\n",
        "data_train['feature4'] = le.fit_transform(data_train['feature4'])\n",
        "data_train.head()"
      ]
    },
    {
      "cell_type": "markdown",
      "source": [
        "Посмотрим, есть ли в датасете незаполненные значения (nan'ы) с помощью .isna(), если нужно, заменим их на что-то."
      ],
      "metadata": {
        "id": "aI-SqhB7E2zZ"
      }
    },
    {
      "cell_type": "code",
      "source": [
        "data_train.isna().sum()"
      ],
      "metadata": {
        "colab": {
          "base_uri": "https://localhost:8080/"
        },
        "id": "usSgLSdqE82r",
        "outputId": "c7ba6066-bff7-4bbb-8203-caa911001d11"
      },
      "execution_count": 5,
      "outputs": [
        {
          "output_type": "execute_result",
          "data": {
            "text/plain": [
              "feature0     0\n",
              "feature1     0\n",
              "feature2     0\n",
              "feature3     0\n",
              "feature4     0\n",
              "feature5     0\n",
              "feature6     0\n",
              "feature7     0\n",
              "feature8     0\n",
              "feature9     0\n",
              "feature10    0\n",
              "feature11    0\n",
              "feature12    0\n",
              "feature13    0\n",
              "feature14    0\n",
              "feature15    0\n",
              "feature16    0\n",
              "feature17    0\n",
              "feature18    0\n",
              "feature19    0\n",
              "feature20    0\n",
              "feature21    0\n",
              "feature22    0\n",
              "feature23    0\n",
              "feature24    0\n",
              "target0      0\n",
              "target1      0\n",
              "dtype: int64"
            ]
          },
          "metadata": {},
          "execution_count": 5
        }
      ]
    },
    {
      "cell_type": "markdown",
      "source": [
        "Пропущенных значений нет! Посмотрим есть ли дубликаты"
      ],
      "metadata": {
        "id": "9wXDYfXRFFZp"
      }
    },
    {
      "cell_type": "code",
      "source": [
        "data_train.duplicated().sum()"
      ],
      "metadata": {
        "colab": {
          "base_uri": "https://localhost:8080/"
        },
        "id": "2YCymlhZFUzw",
        "outputId": "3c1a2494-e471-45f7-c624-9c138e85f234"
      },
      "execution_count": 6,
      "outputs": [
        {
          "output_type": "execute_result",
          "data": {
            "text/plain": [
              "0"
            ]
          },
          "metadata": {},
          "execution_count": 6
        }
      ]
    },
    {
      "cell_type": "markdown",
      "source": [
        "Импортируем дополнительные инструменты"
      ],
      "metadata": {
        "id": "0_S0ldTEJOIg"
      }
    },
    {
      "cell_type": "code",
      "execution_count": 10,
      "metadata": {
        "id": "Z1MaslUPwbhE"
      },
      "outputs": [],
      "source": [
        "from sklearn.model_selection import train_test_split\n",
        "from sklearn.metrics import mean_absolute_percentage_error, r2_score"
      ]
    },
    {
      "cell_type": "markdown",
      "source": [
        "Нам необходимо предсказать параметры 'target0', 'target1'. Разделим данные на тренировочную и валидационную выборку"
      ],
      "metadata": {
        "id": "V_2ONRxzJVrL"
      }
    },
    {
      "cell_type": "code",
      "execution_count": null,
      "metadata": {
        "id": "npT-6xglDYCH"
      },
      "outputs": [],
      "source": [
        "X = data_train.drop(['target0','target1'], axis=1)\n",
        "y0 = data_train['target0']\n",
        "y1 = data_train['target1']\n",
        "\n",
        "X_train, X_val, y0_train, y0_val = train_test_split(X, y0,\n",
        "                                                    test_size=0.25, random_state=3984765)"
      ]
    },
    {
      "cell_type": "code",
      "source": [
        "X_train, X_val, y1_train, y1_val = train_test_split(X, y1,\n",
        "                                                    test_size=0.25, random_state=3984765)"
      ],
      "metadata": {
        "id": "HGZMaxGtvZ0I"
      },
      "execution_count": null,
      "outputs": []
    },
    {
      "cell_type": "markdown",
      "source": [
        "Напишем четырех слойную полносвязную нейронную сеть в библиотеки Keras. В качестве функции активации используем ReLU, которая часто используется в регрессионных моделях. Обучим модель на наших данных, поскольку признаков 25, то input_dim=25"
      ],
      "metadata": {
        "id": "H_3hZ8c6KJO0"
      }
    },
    {
      "cell_type": "code",
      "execution_count": null,
      "metadata": {
        "colab": {
          "base_uri": "https://localhost:8080/"
        },
        "id": "JdCXXcCB-40R",
        "outputId": "72b4641e-244e-4a2a-cd52-41e0c269cf35"
      },
      "outputs": [
        {
          "metadata": {
            "tags": null
          },
          "name": "stderr",
          "output_type": "stream",
          "text": [
            "/usr/local/lib/python3.10/dist-packages/keras/optimizers/legacy/adam.py:117: UserWarning: The `lr` argument is deprecated, use `learning_rate` instead.\n",
            "  super().__init__(name, **kwargs)\n"
          ]
        },
        {
          "output_type": "stream",
          "name": "stdout",
          "text": [
            "Epoch 1/15\n",
            "11507/11507 - 28s - loss: 2.8411 - val_loss: 0.3920 - 28s/epoch - 2ms/step\n",
            "Epoch 2/15\n",
            "11507/11507 - 24s - loss: 0.8231 - val_loss: 0.7792 - 24s/epoch - 2ms/step\n",
            "Epoch 3/15\n",
            "11507/11507 - 22s - loss: 0.6616 - val_loss: 0.2138 - 22s/epoch - 2ms/step\n",
            "Epoch 4/15\n",
            "11507/11507 - 23s - loss: 0.5302 - val_loss: 0.4533 - 23s/epoch - 2ms/step\n",
            "Epoch 5/15\n",
            "11507/11507 - 24s - loss: 0.4913 - val_loss: 0.3816 - 24s/epoch - 2ms/step\n",
            "Epoch 6/15\n",
            "11507/11507 - 21s - loss: 0.4623 - val_loss: 0.2133 - 21s/epoch - 2ms/step\n",
            "Epoch 7/15\n",
            "11507/11507 - 22s - loss: 0.4320 - val_loss: 0.6215 - 22s/epoch - 2ms/step\n",
            "Epoch 8/15\n",
            "11507/11507 - 21s - loss: 0.4066 - val_loss: 0.5628 - 21s/epoch - 2ms/step\n",
            "Epoch 9/15\n",
            "11507/11507 - 21s - loss: 0.3880 - val_loss: 0.2403 - 21s/epoch - 2ms/step\n",
            "Epoch 10/15\n",
            "11507/11507 - 22s - loss: 0.3807 - val_loss: 0.2837 - 22s/epoch - 2ms/step\n",
            "Epoch 11/15\n",
            "11507/11507 - 22s - loss: 0.3670 - val_loss: 0.3320 - 22s/epoch - 2ms/step\n",
            "Epoch 12/15\n",
            "11507/11507 - 21s - loss: 0.3523 - val_loss: 0.1981 - 21s/epoch - 2ms/step\n",
            "Epoch 13/15\n",
            "11507/11507 - 23s - loss: 0.3431 - val_loss: 0.2677 - 23s/epoch - 2ms/step\n",
            "Epoch 14/15\n",
            "11507/11507 - 23s - loss: 0.3350 - val_loss: 0.2446 - 23s/epoch - 2ms/step\n",
            "Epoch 15/15\n",
            "11507/11507 - 23s - loss: 0.3161 - val_loss: 0.2088 - 23s/epoch - 2ms/step\n"
          ]
        }
      ],
      "source": [
        "model_0 = Sequential()\n",
        "model_0.add(Dense(128, activation=\"relu\", input_dim=25))\n",
        "model_0.add(Dense(32, activation=\"relu\"))\n",
        "model_0.add(Dense(8, activation=\"relu\"))\n",
        "\n",
        "model_0.add(Dense(1, activation=\"linear\"))\n",
        "\n",
        "model_0.compile(loss='mean_squared_error', optimizer=Adam(lr=0.01, decay=1e-3 / 200))\n",
        "\n",
        "es = EarlyStopping(monitor='val_loss', mode='min', verbose=1, patience=200)\n",
        "\n",
        "\n",
        "result = model_0.fit(X_train,  y0_train, validation_data=(X_val, y0_val,), epochs=15, batch_size=10, verbose=2, callbacks=[es])"
      ]
    },
    {
      "cell_type": "markdown",
      "source": [
        "Посмотрим на r2_score."
      ],
      "metadata": {
        "id": "TDFlZ6WkN8wO"
      }
    },
    {
      "cell_type": "code",
      "source": [
        "y0_pred = model_0.predict(X_val)\n",
        "print(r2_score(y0_val, y0_pred))\n"
      ],
      "metadata": {
        "colab": {
          "base_uri": "https://localhost:8080/"
        },
        "id": "9UD0qWhzrZgi",
        "outputId": "b729f2aa-8f47-4fee-996b-3052c7bd2c5f"
      },
      "execution_count": null,
      "outputs": [
        {
          "output_type": "stream",
          "name": "stdout",
          "text": [
            "1199/1199 [==============================] - 2s 1ms/step\n",
            "0.999714959535414\n"
          ]
        }
      ]
    },
    {
      "cell_type": "markdown",
      "source": [
        "Результат существенно лучше, чем на классической модели линейной регрессии. Посмотрим на среднюю абсолютную процентную погрешность"
      ],
      "metadata": {
        "id": "TavgtJE9OGEY"
      }
    },
    {
      "cell_type": "code",
      "source": [
        "print(mean_absolute_percentage_error(y0_val, y0_pred))"
      ],
      "metadata": {
        "colab": {
          "base_uri": "https://localhost:8080/"
        },
        "id": "7yMNbt4LsmPX",
        "outputId": "28cb4a4e-3c3c-43a5-e252-d8caae5e4cf9"
      },
      "execution_count": null,
      "outputs": [
        {
          "output_type": "stream",
          "name": "stdout",
          "text": [
            "0.009253125855063313\n"
          ]
        }
      ]
    },
    {
      "cell_type": "markdown",
      "source": [
        "Обучим аналогичную модель для второго признака \"target1\"."
      ],
      "metadata": {
        "id": "YtKYO-RZOop-"
      }
    },
    {
      "cell_type": "code",
      "source": [
        "model_1 = Sequential()\n",
        "model_1.add(Dense(128, activation=\"relu\", input_dim=25))\n",
        "model_1.add(Dense(32, activation=\"relu\"))\n",
        "model_1.add(Dense(8, activation=\"relu\"))\n",
        "model_1.add(Dense(1, activation=\"linear\"))\n",
        "\n",
        "model_1.compile(loss='mean_squared_error', optimizer=Adam(lr=0.001, decay=1e-3 / 200))\n",
        "\n",
        "es = EarlyStopping(monitor='val_loss', mode='min', verbose=1, patience=200)\n",
        "\n",
        "result = model_1.fit(X_train,  y1_train, validation_data=(X_val, y1_val,), epochs=15, batch_size=10, verbose=2, callbacks=[es])"
      ],
      "metadata": {
        "colab": {
          "base_uri": "https://localhost:8080/"
        },
        "id": "ynZT4mOXvmyb",
        "outputId": "a30cc40c-09cd-434f-c301-39f8112920d9"
      },
      "execution_count": null,
      "outputs": [
        {
          "metadata": {
            "tags": null
          },
          "name": "stdout",
          "output_type": "stream",
          "text": [
            "Epoch 1/15\n"
          ]
        },
        {
          "metadata": {
            "tags": null
          },
          "name": "stderr",
          "output_type": "stream",
          "text": [
            "/usr/local/lib/python3.10/dist-packages/keras/optimizers/legacy/adam.py:117: UserWarning: The `lr` argument is deprecated, use `learning_rate` instead.\n",
            "  super().__init__(name, **kwargs)\n"
          ]
        },
        {
          "output_type": "stream",
          "name": "stdout",
          "text": [
            "11507/11507 - 23s - loss: 2.9375 - val_loss: 8.7588 - 23s/epoch - 2ms/step\n",
            "Epoch 2/15\n",
            "11507/11507 - 23s - loss: 0.7172 - val_loss: 0.5037 - 23s/epoch - 2ms/step\n",
            "Epoch 3/15\n",
            "11507/11507 - 24s - loss: 0.5874 - val_loss: 0.4134 - 24s/epoch - 2ms/step\n",
            "Epoch 4/15\n",
            "11507/11507 - 24s - loss: 0.5566 - val_loss: 0.4152 - 24s/epoch - 2ms/step\n",
            "Epoch 5/15\n",
            "11507/11507 - 23s - loss: 0.5034 - val_loss: 0.6489 - 23s/epoch - 2ms/step\n",
            "Epoch 6/15\n",
            "11507/11507 - 22s - loss: 0.4908 - val_loss: 0.3962 - 22s/epoch - 2ms/step\n",
            "Epoch 7/15\n",
            "11507/11507 - 21s - loss: 0.4542 - val_loss: 0.3524 - 21s/epoch - 2ms/step\n",
            "Epoch 8/15\n",
            "11507/11507 - 21s - loss: 0.4402 - val_loss: 0.3724 - 21s/epoch - 2ms/step\n",
            "Epoch 9/15\n",
            "11507/11507 - 23s - loss: 0.4397 - val_loss: 0.3475 - 23s/epoch - 2ms/step\n",
            "Epoch 10/15\n",
            "11507/11507 - 21s - loss: 0.4197 - val_loss: 0.3333 - 21s/epoch - 2ms/step\n",
            "Epoch 11/15\n",
            "11507/11507 - 21s - loss: 0.4124 - val_loss: 0.4418 - 21s/epoch - 2ms/step\n",
            "Epoch 12/15\n",
            "11507/11507 - 21s - loss: 0.4018 - val_loss: 0.3619 - 21s/epoch - 2ms/step\n",
            "Epoch 13/15\n",
            "11507/11507 - 21s - loss: 0.3933 - val_loss: 0.4236 - 21s/epoch - 2ms/step\n",
            "Epoch 14/15\n",
            "11507/11507 - 22s - loss: 0.3923 - val_loss: 0.4545 - 22s/epoch - 2ms/step\n",
            "Epoch 15/15\n",
            "11507/11507 - 23s - loss: 0.3841 - val_loss: 1.1202 - 23s/epoch - 2ms/step\n"
          ]
        }
      ]
    },
    {
      "cell_type": "markdown",
      "source": [
        "Посмотрим на r2_score."
      ],
      "metadata": {
        "id": "Y3KWH9ZcPdVm"
      }
    },
    {
      "cell_type": "code",
      "source": [
        "y1_pred = model_1.predict(X_val)\n",
        "print(r2_score(y1_val, y1_pred))"
      ],
      "metadata": {
        "colab": {
          "base_uri": "https://localhost:8080/"
        },
        "id": "5E_aDUdWw2mW",
        "outputId": "5e2f5c1c-d849-4da7-a056-e7a76fd4a1fe"
      },
      "execution_count": null,
      "outputs": [
        {
          "output_type": "stream",
          "name": "stdout",
          "text": [
            "1199/1199 [==============================] - 2s 1ms/step\n",
            "0.9976001243921393\n"
          ]
        }
      ]
    },
    {
      "cell_type": "markdown",
      "source": [
        "В этом случае результат также оказался лучше, чем на классической модели линейной регрессии. Посмотрим на среднюю абсолютную процентную погрешность"
      ],
      "metadata": {
        "id": "4BiH2okGPQVo"
      }
    },
    {
      "cell_type": "code",
      "source": [
        "print(mean_absolute_percentage_error(y1_val, y1_pred))"
      ],
      "metadata": {
        "colab": {
          "base_uri": "https://localhost:8080/"
        },
        "id": "ftxF8JrexF8O",
        "outputId": "af987666-9826-4b90-ba49-223c9238e4ee"
      },
      "execution_count": null,
      "outputs": [
        {
          "output_type": "stream",
          "name": "stdout",
          "text": [
            "0.03044211709887495\n"
          ]
        }
      ]
    },
    {
      "cell_type": "markdown",
      "source": [
        "Запишем обученные модели в файлы"
      ],
      "metadata": {
        "id": "isxYiUiuHjdX"
      }
    },
    {
      "cell_type": "code",
      "source": [
        "from keras.models import load_model\n",
        "model_0.save('model_0.h5')\n",
        "model_1.save('model_1.h5')"
      ],
      "metadata": {
        "id": "WADsSSyR2xm1"
      },
      "execution_count": null,
      "outputs": []
    },
    {
      "cell_type": "markdown",
      "source": [
        "Подготовим сабмит и запишем файл предикт"
      ],
      "metadata": {
        "id": "UQlvqT9AG-KZ"
      }
    },
    {
      "cell_type": "code",
      "source": [
        "%%writefile predict.py\n",
        "import pandas as pd\n",
        "from sklearn import preprocessing\n",
        "from keras.models import load_model\n",
        "import pathlib\n",
        "\n",
        "le = preprocessing.LabelEncoder()\n",
        "\n",
        "\n",
        "\n",
        "DATA_DIR = pathlib.Path(\".\")\n",
        "MODEL_FILE_0 = pathlib.Path(__file__).parent.joinpath(\"model_0.h5\")\n",
        "MODEL_FILE_1 = pathlib.Path(__file__).parent.joinpath(\"model_1.h5\")\n",
        "\n",
        "\n",
        "def predict(df: pd.DataFrame) -> pd.DataFrame:\n",
        "    \"\"\"\n",
        "    Вычисление предсказаний.\n",
        "\n",
        "    Параметры:\n",
        "        df:\n",
        "          датафрейм, содержащий строки из тестового множества.\n",
        "          Типы и имена колонок совпадают с типами и именами в ноутбуке, не содержит `np.nan` или `np.inf`.\n",
        "\n",
        "    Результат:\n",
        "        Датафрейм предсказаний.\n",
        "        Должен содержать то же количество строк и в том же порядке, а также колонки `target0` и `target1`.\n",
        "    \"\"\"\n",
        "\n",
        "    predictions = {}\n",
        "\n",
        "\n",
        "    df['feature4'] = le.fit_transform(df['feature4'])\n",
        "    FTS = df.columns\n",
        "\n",
        "    for target, model_file in zip([\"target0\", \"target1\"], [MODEL_FILE_0, MODEL_FILE_1]):\n",
        "\n",
        "        model = load_model(model_file)\n",
        "        predictions[target] = model.predict(df[FTS])\n",
        "\n",
        "    preds_df = pd.DataFrame(predictions, index=df.index)\n",
        "    return preds_df"
      ],
      "metadata": {
        "colab": {
          "base_uri": "https://localhost:8080/"
        },
        "id": "ylFLidd-y-sp",
        "outputId": "7a35fad6-9534-40bc-a85f-dbf435e5483b"
      },
      "execution_count": null,
      "outputs": [
        {
          "output_type": "stream",
          "name": "stdout",
          "text": [
            "Writing predict.py\n"
          ]
        }
      ]
    },
    {
      "cell_type": "markdown",
      "source": [
        "Запишем файл requirements.txt с версиями используемых библиотек"
      ],
      "metadata": {
        "id": "4k-P3GCuHVLK"
      }
    },
    {
      "cell_type": "code",
      "source": [
        "!pip3 freeze > requirements.txt"
      ],
      "metadata": {
        "id": "CAswlO40zfbo"
      },
      "execution_count": null,
      "outputs": []
    }
  ],
  "metadata": {
    "colab": {
      "provenance": []
    },
    "kernelspec": {
      "display_name": "Python 3",
      "name": "python3"
    },
    "language_info": {
      "name": "python"
    }
  },
  "nbformat": 4,
  "nbformat_minor": 0
}